{
 "cells": [
  {
   "cell_type": "code",
   "execution_count": 1,
   "id": "25598270",
   "metadata": {},
   "outputs": [],
   "source": [
    "#LAB CYCLE 3"
   ]
  },
  {
   "cell_type": "code",
   "execution_count": 2,
   "id": "33ada165",
   "metadata": {},
   "outputs": [],
   "source": [
    "import pandas as pd\n",
    "import numpy as np\n",
    "from sklearn.model_selection import train_test_split"
   ]
  },
  {
   "cell_type": "code",
   "execution_count": 5,
   "id": "51722f11",
   "metadata": {},
   "outputs": [
    {
     "data": {
      "text/html": [
       "<div>\n",
       "<style scoped>\n",
       "    .dataframe tbody tr th:only-of-type {\n",
       "        vertical-align: middle;\n",
       "    }\n",
       "\n",
       "    .dataframe tbody tr th {\n",
       "        vertical-align: top;\n",
       "    }\n",
       "\n",
       "    .dataframe thead th {\n",
       "        text-align: right;\n",
       "    }\n",
       "</style>\n",
       "<table border=\"1\" class=\"dataframe\">\n",
       "  <thead>\n",
       "    <tr style=\"text-align: right;\">\n",
       "      <th></th>\n",
       "      <th>D</th>\n",
       "      <th>X1</th>\n",
       "      <th>X2</th>\n",
       "      <th>X3</th>\n",
       "      <th>X4</th>\n",
       "      <th>X5</th>\n",
       "      <th>X6</th>\n",
       "    </tr>\n",
       "  </thead>\n",
       "  <tbody>\n",
       "    <tr>\n",
       "      <th>0</th>\n",
       "      <td>0</td>\n",
       "      <td>3</td>\n",
       "      <td>3</td>\n",
       "      <td>3</td>\n",
       "      <td>4</td>\n",
       "      <td>2</td>\n",
       "      <td>4</td>\n",
       "    </tr>\n",
       "    <tr>\n",
       "      <th>1</th>\n",
       "      <td>0</td>\n",
       "      <td>3</td>\n",
       "      <td>2</td>\n",
       "      <td>3</td>\n",
       "      <td>5</td>\n",
       "      <td>4</td>\n",
       "      <td>3</td>\n",
       "    </tr>\n",
       "    <tr>\n",
       "      <th>2</th>\n",
       "      <td>1</td>\n",
       "      <td>5</td>\n",
       "      <td>3</td>\n",
       "      <td>3</td>\n",
       "      <td>3</td>\n",
       "      <td>3</td>\n",
       "      <td>5</td>\n",
       "    </tr>\n",
       "    <tr>\n",
       "      <th>3</th>\n",
       "      <td>0</td>\n",
       "      <td>5</td>\n",
       "      <td>4</td>\n",
       "      <td>3</td>\n",
       "      <td>3</td>\n",
       "      <td>3</td>\n",
       "      <td>5</td>\n",
       "    </tr>\n",
       "    <tr>\n",
       "      <th>4</th>\n",
       "      <td>0</td>\n",
       "      <td>5</td>\n",
       "      <td>4</td>\n",
       "      <td>3</td>\n",
       "      <td>3</td>\n",
       "      <td>3</td>\n",
       "      <td>5</td>\n",
       "    </tr>\n",
       "    <tr>\n",
       "      <th>...</th>\n",
       "      <td>...</td>\n",
       "      <td>...</td>\n",
       "      <td>...</td>\n",
       "      <td>...</td>\n",
       "      <td>...</td>\n",
       "      <td>...</td>\n",
       "      <td>...</td>\n",
       "    </tr>\n",
       "    <tr>\n",
       "      <th>124</th>\n",
       "      <td>1</td>\n",
       "      <td>5</td>\n",
       "      <td>2</td>\n",
       "      <td>4</td>\n",
       "      <td>4</td>\n",
       "      <td>2</td>\n",
       "      <td>3</td>\n",
       "    </tr>\n",
       "    <tr>\n",
       "      <th>125</th>\n",
       "      <td>0</td>\n",
       "      <td>5</td>\n",
       "      <td>3</td>\n",
       "      <td>3</td>\n",
       "      <td>4</td>\n",
       "      <td>4</td>\n",
       "      <td>5</td>\n",
       "    </tr>\n",
       "    <tr>\n",
       "      <th>126</th>\n",
       "      <td>0</td>\n",
       "      <td>5</td>\n",
       "      <td>3</td>\n",
       "      <td>3</td>\n",
       "      <td>4</td>\n",
       "      <td>4</td>\n",
       "      <td>4</td>\n",
       "    </tr>\n",
       "    <tr>\n",
       "      <th>127</th>\n",
       "      <td>0</td>\n",
       "      <td>3</td>\n",
       "      <td>2</td>\n",
       "      <td>3</td>\n",
       "      <td>3</td>\n",
       "      <td>5</td>\n",
       "      <td>4</td>\n",
       "    </tr>\n",
       "    <tr>\n",
       "      <th>128</th>\n",
       "      <td>0</td>\n",
       "      <td>4</td>\n",
       "      <td>1</td>\n",
       "      <td>3</td>\n",
       "      <td>3</td>\n",
       "      <td>3</td>\n",
       "      <td>4</td>\n",
       "    </tr>\n",
       "  </tbody>\n",
       "</table>\n",
       "<p>129 rows × 7 columns</p>\n",
       "</div>"
      ],
      "text/plain": [
       "     D  X1  X2  X3  X4  X5  X6\n",
       "0    0   3   3   3   4   2   4\n",
       "1    0   3   2   3   5   4   3\n",
       "2    1   5   3   3   3   3   5\n",
       "3    0   5   4   3   3   3   5\n",
       "4    0   5   4   3   3   3   5\n",
       "..  ..  ..  ..  ..  ..  ..  ..\n",
       "124  1   5   2   4   4   2   3\n",
       "125  0   5   3   3   4   4   5\n",
       "126  0   5   3   3   4   4   4\n",
       "127  0   3   2   3   3   5   4\n",
       "128  0   4   1   3   3   3   4\n",
       "\n",
       "[129 rows x 7 columns]"
      ]
     },
     "execution_count": 5,
     "metadata": {},
     "output_type": "execute_result"
    }
   ],
   "source": [
    "dataset=pd.read_csv(\"data3.csv\")\n",
    "dataset"
   ]
  },
  {
   "cell_type": "code",
   "execution_count": 6,
   "id": "d17e4437",
   "metadata": {},
   "outputs": [
    {
     "data": {
      "text/plain": [
       "129"
      ]
     },
     "execution_count": 6,
     "metadata": {},
     "output_type": "execute_result"
    }
   ],
   "source": [
    "total=dataset.shape[0]\n",
    "total"
   ]
  },
  {
   "cell_type": "code",
   "execution_count": 7,
   "id": "dfef06d8",
   "metadata": {},
   "outputs": [
    {
     "data": {
      "text/plain": [
       "59"
      ]
     },
     "execution_count": 7,
     "metadata": {},
     "output_type": "execute_result"
    }
   ],
   "source": [
    "fzero=dataset['D'][dataset['D']==0].count()\n",
    "fzero"
   ]
  },
  {
   "cell_type": "code",
   "execution_count": 8,
   "id": "ef5279aa",
   "metadata": {},
   "outputs": [
    {
     "data": {
      "text/plain": [
       "70"
      ]
     },
     "execution_count": 8,
     "metadata": {},
     "output_type": "execute_result"
    }
   ],
   "source": [
    "fone=dataset['D'][dataset['D']==1].count()\n",
    "fone"
   ]
  },
  {
   "cell_type": "code",
   "execution_count": 9,
   "id": "aa1fdc86",
   "metadata": {},
   "outputs": [
    {
     "data": {
      "text/plain": [
       "0.4573643410852713"
      ]
     },
     "execution_count": 9,
     "metadata": {},
     "output_type": "execute_result"
    }
   ],
   "source": [
    "pzero=fzero/total\n",
    "pzero"
   ]
  },
  {
   "cell_type": "code",
   "execution_count": 10,
   "id": "49dee94b",
   "metadata": {},
   "outputs": [
    {
     "data": {
      "text/plain": [
       "0.5426356589147286"
      ]
     },
     "execution_count": 10,
     "metadata": {},
     "output_type": "execute_result"
    }
   ],
   "source": [
    "pone=fone/total\n",
    "pone"
   ]
  },
  {
   "cell_type": "code",
   "execution_count": 26,
   "id": "49b22da3",
   "metadata": {},
   "outputs": [],
   "source": [
    "dzero=np.zeros((5,6))\n",
    "done=np.zeros((5,6))"
   ]
  },
  {
   "cell_type": "code",
   "execution_count": 27,
   "id": "f5959114",
   "metadata": {},
   "outputs": [],
   "source": [
    "for i in range(0,6):\n",
    "    for j in range(0,5):\n",
    "         dzero[j][i]=dataset['X'+str(i+1)][dataset['D']==0][dataset['X'+str(i+1)]==j+1].count()"
   ]
  },
  {
   "cell_type": "code",
   "execution_count": 28,
   "id": "e8ed4c77",
   "metadata": {},
   "outputs": [
    {
     "data": {
      "text/plain": [
       "array([[ 1., 15.,  4.,  0.,  5.,  1.],\n",
       "       [ 0., 14.,  7.,  5.,  9.,  1.],\n",
       "       [16., 18., 34., 24., 15., 16.],\n",
       "       [25., 10.,  9., 21., 22., 24.],\n",
       "       [17.,  2.,  5.,  9.,  8., 17.]])"
      ]
     },
     "execution_count": 28,
     "metadata": {},
     "output_type": "execute_result"
    }
   ],
   "source": [
    "dzero"
   ]
  },
  {
   "cell_type": "code",
   "execution_count": 29,
   "id": "e9b3ef22",
   "metadata": {},
   "outputs": [],
   "source": [
    "for i in range(0,6):\n",
    "    for j in range(0,5):\n",
    "        done[j][i]=dataset['X'+str(i+1)][dataset['D']==1][dataset['X'+str(i+1)]==j+1].count()"
   ]
  },
  {
   "cell_type": "code",
   "execution_count": 30,
   "id": "042d595f",
   "metadata": {},
   "outputs": [
    {
     "data": {
      "text/plain": [
       "array([[ 0., 13.,  2.,  1.,  1.,  0.],\n",
       "       [ 0., 23.,  9.,  1.,  8.,  0.],\n",
       "       [ 7., 22., 25., 24., 11.,  5.],\n",
       "       [18.,  8., 24., 30., 30., 28.],\n",
       "       [45.,  4., 10., 14., 20., 37.]])"
      ]
     },
     "execution_count": 30,
     "metadata": {},
     "output_type": "execute_result"
    }
   ],
   "source": [
    "done"
   ]
  },
  {
   "cell_type": "code",
   "execution_count": 31,
   "id": "a9409865",
   "metadata": {},
   "outputs": [],
   "source": [
    "zeroprobzero=np.zeros((6))\n",
    "oneprobzero=np.zeros((6))"
   ]
  },
  {
   "cell_type": "code",
   "execution_count": 32,
   "id": "58d746ca",
   "metadata": {},
   "outputs": [],
   "source": [
    "for i in range(0,5):\n",
    "    for j in range(0,6):\n",
    "        if(dzero[i][j]==0):\n",
    "            zeroprobzero[j]=zeroprobzero[j]+1\n",
    "           \n",
    "            \n",
    "            "
   ]
  },
  {
   "cell_type": "code",
   "execution_count": 33,
   "id": "fc7db89a",
   "metadata": {},
   "outputs": [
    {
     "data": {
      "text/plain": [
       "array([1., 0., 0., 1., 0., 0.])"
      ]
     },
     "execution_count": 33,
     "metadata": {},
     "output_type": "execute_result"
    }
   ],
   "source": [
    "zeroprobzero "
   ]
  },
  {
   "cell_type": "code",
   "execution_count": 34,
   "id": "f28eac4f",
   "metadata": {},
   "outputs": [
    {
     "data": {
      "text/plain": [
       "array([2., 0., 0., 0., 0., 2.])"
      ]
     },
     "execution_count": 34,
     "metadata": {},
     "output_type": "execute_result"
    }
   ],
   "source": [
    "for i in range(0,5):\n",
    "    for j in range(0,6):\n",
    "        if(done[i][j]==0):\n",
    "            oneprobzero[j]=oneprobzero[j]+1\n",
    "oneprobzero"
   ]
  },
  {
   "cell_type": "code",
   "execution_count": 36,
   "id": "71aefae1",
   "metadata": {},
   "outputs": [
    {
     "data": {
      "text/plain": [
       "array([[ 0., 13.,  2.,  1.,  1.,  0.],\n",
       "       [ 0., 23.,  9.,  1.,  8.,  0.],\n",
       "       [ 7., 22., 25., 24., 11.,  5.],\n",
       "       [18.,  8., 24., 30., 30., 28.],\n",
       "       [45.,  4., 10., 14., 20., 37.]])"
      ]
     },
     "execution_count": 36,
     "metadata": {},
     "output_type": "execute_result"
    }
   ],
   "source": [
    "dzeroprob=np.zeros((5,6))\n",
    "doneprob=np.zeros((5,6))\n",
    "done"
   ]
  },
  {
   "cell_type": "code",
   "execution_count": 37,
   "id": "0c1d2264",
   "metadata": {},
   "outputs": [
    {
     "data": {
      "text/plain": [
       "array([[0.03125   , 0.25423729, 0.06779661, 0.015625  , 0.08474576,\n",
       "        0.01694915],\n",
       "       [0.015625  , 0.23728814, 0.11864407, 0.09375   , 0.15254237,\n",
       "        0.01694915],\n",
       "       [0.265625  , 0.30508475, 0.57627119, 0.390625  , 0.25423729,\n",
       "        0.27118644],\n",
       "       [0.40625   , 0.16949153, 0.15254237, 0.34375   , 0.37288136,\n",
       "        0.40677966],\n",
       "       [0.28125   , 0.03389831, 0.08474576, 0.15625   , 0.13559322,\n",
       "        0.28813559]])"
      ]
     },
     "execution_count": 37,
     "metadata": {},
     "output_type": "execute_result"
    }
   ],
   "source": [
    "for n in range(0,6):\n",
    "    if(zeroprobzero[n]>0):\n",
    "        for j in range(0,5):\n",
    "            dzeroprob[j][n]=(dzero[j][n]+1)/(fzero+5)\n",
    "    else:\n",
    "        for j in range(0,5):\n",
    "            dzeroprob[j][n]=dzero[j][n]/fzero\n",
    "dzeroprob"
   ]
  },
  {
   "cell_type": "code",
   "execution_count": 38,
   "id": "608f422d",
   "metadata": {},
   "outputs": [
    {
     "data": {
      "text/plain": [
       "array([[0.01333333, 0.18571429, 0.02857143, 0.01428571, 0.01428571,\n",
       "        0.01333333],\n",
       "       [0.01333333, 0.32857143, 0.12857143, 0.01428571, 0.11428571,\n",
       "        0.01333333],\n",
       "       [0.10666667, 0.31428571, 0.35714286, 0.34285714, 0.15714286,\n",
       "        0.08      ],\n",
       "       [0.25333333, 0.11428571, 0.34285714, 0.42857143, 0.42857143,\n",
       "        0.38666667],\n",
       "       [0.61333333, 0.05714286, 0.14285714, 0.2       , 0.28571429,\n",
       "        0.50666667]])"
      ]
     },
     "execution_count": 38,
     "metadata": {},
     "output_type": "execute_result"
    }
   ],
   "source": [
    "for n in range(0,6):\n",
    "    if(oneprobzero[n]>0):\n",
    "        for j in range(0,5):\n",
    "            doneprob[j][n]=(done[j][n]+1)/(fone+5)\n",
    "    else:\n",
    "        for j in range(0,5):\n",
    "            doneprob[j][n]=done[j][n]/fone\n",
    "doneprob"
   ]
  },
  {
   "cell_type": "code",
   "execution_count": 39,
   "id": "75202405",
   "metadata": {},
   "outputs": [
    {
     "data": {
      "text/html": [
       "<div>\n",
       "<style scoped>\n",
       "    .dataframe tbody tr th:only-of-type {\n",
       "        vertical-align: middle;\n",
       "    }\n",
       "\n",
       "    .dataframe tbody tr th {\n",
       "        vertical-align: top;\n",
       "    }\n",
       "\n",
       "    .dataframe thead th {\n",
       "        text-align: right;\n",
       "    }\n",
       "</style>\n",
       "<table border=\"1\" class=\"dataframe\">\n",
       "  <thead>\n",
       "    <tr style=\"text-align: right;\">\n",
       "      <th></th>\n",
       "      <th>D</th>\n",
       "      <th>X1</th>\n",
       "      <th>X2</th>\n",
       "      <th>X3</th>\n",
       "      <th>X4</th>\n",
       "      <th>X5</th>\n",
       "      <th>X6</th>\n",
       "    </tr>\n",
       "  </thead>\n",
       "  <tbody>\n",
       "    <tr>\n",
       "      <th>0</th>\n",
       "      <td>0</td>\n",
       "      <td>5</td>\n",
       "      <td>1</td>\n",
       "      <td>4</td>\n",
       "      <td>4</td>\n",
       "      <td>4</td>\n",
       "      <td>5</td>\n",
       "    </tr>\n",
       "    <tr>\n",
       "      <th>1</th>\n",
       "      <td>0</td>\n",
       "      <td>5</td>\n",
       "      <td>2</td>\n",
       "      <td>2</td>\n",
       "      <td>4</td>\n",
       "      <td>4</td>\n",
       "      <td>5</td>\n",
       "    </tr>\n",
       "    <tr>\n",
       "      <th>2</th>\n",
       "      <td>0</td>\n",
       "      <td>5</td>\n",
       "      <td>3</td>\n",
       "      <td>5</td>\n",
       "      <td>4</td>\n",
       "      <td>5</td>\n",
       "      <td>5</td>\n",
       "    </tr>\n",
       "    <tr>\n",
       "      <th>3</th>\n",
       "      <td>1</td>\n",
       "      <td>3</td>\n",
       "      <td>4</td>\n",
       "      <td>4</td>\n",
       "      <td>5</td>\n",
       "      <td>1</td>\n",
       "      <td>3</td>\n",
       "    </tr>\n",
       "    <tr>\n",
       "      <th>4</th>\n",
       "      <td>1</td>\n",
       "      <td>5</td>\n",
       "      <td>1</td>\n",
       "      <td>5</td>\n",
       "      <td>5</td>\n",
       "      <td>5</td>\n",
       "      <td>5</td>\n",
       "    </tr>\n",
       "    <tr>\n",
       "      <th>5</th>\n",
       "      <td>1</td>\n",
       "      <td>4</td>\n",
       "      <td>3</td>\n",
       "      <td>3</td>\n",
       "      <td>4</td>\n",
       "      <td>4</td>\n",
       "      <td>4</td>\n",
       "    </tr>\n",
       "    <tr>\n",
       "      <th>6</th>\n",
       "      <td>1</td>\n",
       "      <td>5</td>\n",
       "      <td>5</td>\n",
       "      <td>1</td>\n",
       "      <td>1</td>\n",
       "      <td>5</td>\n",
       "      <td>1</td>\n",
       "    </tr>\n",
       "    <tr>\n",
       "      <th>7</th>\n",
       "      <td>0</td>\n",
       "      <td>4</td>\n",
       "      <td>4</td>\n",
       "      <td>4</td>\n",
       "      <td>4</td>\n",
       "      <td>1</td>\n",
       "      <td>3</td>\n",
       "    </tr>\n",
       "    <tr>\n",
       "      <th>8</th>\n",
       "      <td>1</td>\n",
       "      <td>5</td>\n",
       "      <td>2</td>\n",
       "      <td>3</td>\n",
       "      <td>4</td>\n",
       "      <td>4</td>\n",
       "      <td>3</td>\n",
       "    </tr>\n",
       "    <tr>\n",
       "      <th>9</th>\n",
       "      <td>0</td>\n",
       "      <td>5</td>\n",
       "      <td>3</td>\n",
       "      <td>3</td>\n",
       "      <td>1</td>\n",
       "      <td>3</td>\n",
       "      <td>5</td>\n",
       "    </tr>\n",
       "    <tr>\n",
       "      <th>10</th>\n",
       "      <td>1</td>\n",
       "      <td>5</td>\n",
       "      <td>2</td>\n",
       "      <td>3</td>\n",
       "      <td>4</td>\n",
       "      <td>2</td>\n",
       "      <td>5</td>\n",
       "    </tr>\n",
       "    <tr>\n",
       "      <th>11</th>\n",
       "      <td>1</td>\n",
       "      <td>5</td>\n",
       "      <td>3</td>\n",
       "      <td>3</td>\n",
       "      <td>4</td>\n",
       "      <td>4</td>\n",
       "      <td>5</td>\n",
       "    </tr>\n",
       "    <tr>\n",
       "      <th>12</th>\n",
       "      <td>0</td>\n",
       "      <td>4</td>\n",
       "      <td>3</td>\n",
       "      <td>3</td>\n",
       "      <td>4</td>\n",
       "      <td>4</td>\n",
       "      <td>5</td>\n",
       "    </tr>\n",
       "    <tr>\n",
       "      <th>13</th>\n",
       "      <td>0</td>\n",
       "      <td>5</td>\n",
       "      <td>3</td>\n",
       "      <td>2</td>\n",
       "      <td>5</td>\n",
       "      <td>5</td>\n",
       "      <td>5</td>\n",
       "    </tr>\n",
       "  </tbody>\n",
       "</table>\n",
       "</div>"
      ],
      "text/plain": [
       "    D  X1  X2  X3  X4  X5  X6\n",
       "0   0   5   1   4   4   4   5\n",
       "1   0   5   2   2   4   4   5\n",
       "2   0   5   3   5   4   5   5\n",
       "3   1   3   4   4   5   1   3\n",
       "4   1   5   1   5   5   5   5\n",
       "5   1   4   3   3   4   4   4\n",
       "6   1   5   5   1   1   5   1\n",
       "7   0   4   4   4   4   1   3\n",
       "8   1   5   2   3   4   4   3\n",
       "9   0   5   3   3   1   3   5\n",
       "10  1   5   2   3   4   2   5\n",
       "11  1   5   3   3   4   4   5\n",
       "12  0   4   3   3   4   4   5\n",
       "13  0   5   3   2   5   5   5"
      ]
     },
     "execution_count": 39,
     "metadata": {},
     "output_type": "execute_result"
    }
   ],
   "source": [
    "testset=pd.read_csv(\"test3.csv\")\n",
    "testset"
   ]
  },
  {
   "cell_type": "code",
   "execution_count": 40,
   "id": "79f30a41",
   "metadata": {},
   "outputs": [
    {
     "data": {
      "text/plain": [
       "14"
      ]
     },
     "execution_count": 40,
     "metadata": {},
     "output_type": "execute_result"
    }
   ],
   "source": [
    "ttotal=testset.shape[0]\n",
    "ttotal"
   ]
  },
  {
   "cell_type": "code",
   "execution_count": 41,
   "id": "2babc459",
   "metadata": {},
   "outputs": [],
   "source": [
    "#confusion matrix\n"
   ]
  },
  {
   "cell_type": "code",
   "execution_count": 42,
   "id": "7890d9a6",
   "metadata": {},
   "outputs": [],
   "source": [
    "tp=0\n",
    "tn=0\n",
    "fp=0\n",
    "fn=0\n",
    "for n in range(0,ttotal):\n",
    "    a=1\n",
    "    b=1\n",
    "    for i in range(1,6):\n",
    "        k=testset.at[n,'X'+str(i)]\n",
    "        a=a*dzeroprob[k-1][i-1]\n",
    "        b=b*doneprob[k-1][i-1]\n",
    "        if i==5:\n",
    "            break\n",
    "    a=a*pzero\n",
    "    b=b*pone\n",
    "    if(a>b):\n",
    "        predict=0\n",
    "    else:\n",
    "        predict=1\n",
    "    d=testset.at[n,'D']\n",
    "    if(d==1 and predict==1):\n",
    "        tp=tp+1\n",
    "    elif(d==1 and predict==0):\n",
    "        tn=tn+1\n",
    "    elif(d==0 and predict==1):\n",
    "        fp=fp+1\n",
    "    else:\n",
    "        fn=fn+1"
   ]
  },
  {
   "cell_type": "code",
   "execution_count": 43,
   "id": "6e3d8db5",
   "metadata": {},
   "outputs": [
    {
     "data": {
      "text/plain": [
       "array([[5, 4],\n",
       "       [3, 2]])"
      ]
     },
     "execution_count": 43,
     "metadata": {},
     "output_type": "execute_result"
    }
   ],
   "source": [
    "confusion=np.array([[tp,fp],[fn,tn]])\n",
    "confusion"
   ]
  },
  {
   "cell_type": "code",
   "execution_count": 44,
   "id": "ea8c5352",
   "metadata": {},
   "outputs": [
    {
     "name": "stdout",
     "output_type": "stream",
     "text": [
      "correctness =  0.5\n"
     ]
    }
   ],
   "source": [
    "correctness=(tp+tn)/(tp+tn+fp+fn)\n",
    "print(\"correctness = \",correctness)"
   ]
  },
  {
   "cell_type": "code",
   "execution_count": 45,
   "id": "e42625d5",
   "metadata": {},
   "outputs": [
    {
     "name": "stdout",
     "output_type": "stream",
     "text": [
      "erorrness =  0.5\n"
     ]
    }
   ],
   "source": [
    "erorrness=(fp+fn)/(tp+tn+fp+fn)\n",
    "print(\"erorrness = \",erorrness)"
   ]
  },
  {
   "cell_type": "code",
   "execution_count": 46,
   "id": "3df2e1e5",
   "metadata": {},
   "outputs": [
    {
     "name": "stdout",
     "output_type": "stream",
     "text": [
      "precision =  0.5555555555555556\n"
     ]
    }
   ],
   "source": [
    "precision=tp/(tp+fp)\n",
    "print(\"precision = \",precision)"
   ]
  },
  {
   "cell_type": "code",
   "execution_count": 47,
   "id": "cf760882",
   "metadata": {},
   "outputs": [
    {
     "name": "stdout",
     "output_type": "stream",
     "text": [
      "recall =  0.625\n"
     ]
    }
   ],
   "source": [
    "recall=tp/(tp+fn)\n",
    "print(\"recall = \",recall)"
   ]
  },
  {
   "cell_type": "code",
   "execution_count": null,
   "id": "f683da5f",
   "metadata": {},
   "outputs": [],
   "source": []
  }
 ],
 "metadata": {
  "kernelspec": {
   "display_name": "Python 3 (ipykernel)",
   "language": "python",
   "name": "python3"
  },
  "language_info": {
   "codemirror_mode": {
    "name": "ipython",
    "version": 3
   },
   "file_extension": ".py",
   "mimetype": "text/x-python",
   "name": "python",
   "nbconvert_exporter": "python",
   "pygments_lexer": "ipython3",
   "version": "3.9.7"
  }
 },
 "nbformat": 4,
 "nbformat_minor": 5
}
